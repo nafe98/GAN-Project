{
 "cells": [
  {
   "cell_type": "markdown",
   "id": "b0e964c3",
   "metadata": {},
   "source": [
    "# Importing Libraries"
   ]
  },
  {
   "cell_type": "code",
   "execution_count": 1,
   "id": "afa906a9",
   "metadata": {},
   "outputs": [],
   "source": [
    "import scipy\n",
    "import scipy.misc\n",
    "from glob import glob\n",
    "import numpy as np\n",
    "import matplotlib.pyplot as plt\n",
    "import  random\n",
    "from scipy.io import loadmat\n",
    "import h5py\n",
    "import time\n",
    "import tensorflow as tf"
   ]
  },
  {
   "cell_type": "markdown",
   "id": "49142732",
   "metadata": {},
   "source": [
    "# GPU Setting Parallel Computing"
   ]
  },
  {
   "cell_type": "code",
   "execution_count": 2,
   "id": "c0d84555",
   "metadata": {},
   "outputs": [],
   "source": [
    "config = tf.compat.v1.ConfigProto()\n",
    "config.gpu_options.allow_growth = True\n",
    "tf.compat.v1.enable_eager_execution(config=config)\n",
    "layers = tf.keras.layers"
   ]
  },
  {
   "cell_type": "markdown",
   "id": "84f1b3cf",
   "metadata": {},
   "source": [
    "# Loading Train Images "
   ]
  },
  {
   "cell_type": "code",
   "execution_count": 3,
   "id": "4b74a33b",
   "metadata": {},
   "outputs": [],
   "source": [
    "def load_image_train(path, batch_size = 1):\n",
    "    \"\"\"load, jitter, and normalize\"\"\"\n",
    "    \n",
    "    with h5py.File(path, 'r') as file:\n",
    "        real_image = np.transpose(np.array(file['output_da']))\n",
    "\n",
    "        \n",
    "    with h5py.File(path, 'r') as file:\n",
    "        input_image = np.transpose(np.array(file['input_da']))\n",
    "        \n",
    "    \n",
    "    # real_image = real_image[1:10,:,:,:]\n",
    "    # input_image = input_image[1:10,:,:,:]\n",
    "        \n",
    "    SIZE_IN= real_image.shape\n",
    "    list_im=list(range(0, SIZE_IN[0]))\n",
    "\n",
    "    batch_im = random.sample(list_im,SIZE_IN[0])\n",
    "    real_image = real_image[batch_im,:,:,:]\n",
    "    input_image = input_image[batch_im,:,:,:]\n",
    "    \n",
    "    n_batches = int(SIZE_IN[0] / batch_size)\n",
    "    \n",
    "    for i in range(n_batches-1):\n",
    "        imgs_A = real_image[i*batch_size:(i+1)*batch_size]\n",
    "        imgs_B = input_image[i*batch_size:(i+1)*batch_size]\n",
    "        \n",
    "    \n",
    "        yield imgs_A, imgs_B"
   ]
  },
  {
   "cell_type": "markdown",
   "id": "4228b19a",
   "metadata": {},
   "source": [
    "# Loading Test Images "
   ]
  },
  {
   "cell_type": "code",
   "execution_count": 4,
   "id": "6c735e5a",
   "metadata": {},
   "outputs": [],
   "source": [
    "def load_image_test(path, batch_size = 1):\n",
    "       \n",
    "    with h5py.File(path, 'r') as file:\n",
    "        real_image = np.transpose(np.array(file['output_da_test']))\n",
    "\n",
    "        \n",
    "    with h5py.File(path, 'r') as file:\n",
    "        input_image = np.transpose(np.array(file['input_da_test']))\n",
    "        \n",
    "    SIZE_IN= real_image.shape\n",
    "\n",
    "    \n",
    "    n_batches = int(SIZE_IN[0] / batch_size)\n",
    "    \n",
    "    for i in range(n_batches-1):\n",
    "        imgs_A = real_image[i*batch_size:(i+1)*batch_size]\n",
    "        imgs_B = input_image[i*batch_size:(i+1)*batch_size]\n",
    "        \n",
    "    \n",
    "        yield imgs_A, imgs_B"
   ]
  },
  {
   "cell_type": "markdown",
   "id": "66ee4861",
   "metadata": {},
   "source": [
    "# Loading Y value"
   ]
  },
  {
   "cell_type": "code",
   "execution_count": 5,
   "id": "2cbb6d98",
   "metadata": {},
   "outputs": [],
   "source": [
    "def load_image_test_y(path):\n",
    "       \n",
    "    with h5py.File(path, 'r') as file:\n",
    "        real_image = np.transpose(np.array(file['output_da_test']))\n",
    "\n",
    "        \n",
    "    with h5py.File(path, 'r') as file:\n",
    "        input_image = np.transpose(np.array(file['input_da_test']))\n",
    "        \n",
    "        \n",
    "    \n",
    "    return real_image, input_image"
   ]
  },
  {
   "cell_type": "code",
   "execution_count": null,
   "id": "e840e527",
   "metadata": {},
   "outputs": [],
   "source": []
  }
 ],
 "metadata": {
  "kernelspec": {
   "display_name": "Python 3 (ipykernel)",
   "language": "python",
   "name": "python3"
  },
  "language_info": {
   "codemirror_mode": {
    "name": "ipython",
    "version": 3
   },
   "file_extension": ".py",
   "mimetype": "text/x-python",
   "name": "python",
   "nbconvert_exporter": "python",
   "pygments_lexer": "ipython3",
   "version": "3.8.12"
  }
 },
 "nbformat": 4,
 "nbformat_minor": 5
}
