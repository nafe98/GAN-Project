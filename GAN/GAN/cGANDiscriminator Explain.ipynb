{
 "cells": [
  {
   "cell_type": "markdown",
   "id": "39e6c8e3",
   "metadata": {},
   "source": [
    "# Importing Libraries"
   ]
  },
  {
   "cell_type": "code",
   "execution_count": 3,
   "id": "f79af7f0",
   "metadata": {},
   "outputs": [],
   "source": [
    "import tensorflow as tf\n",
    "import numpy as np\n",
    "import matplotlib.pyplot as plt\n",
    "from cGANGenerator import EncoderLayer #Conecting with the Generator\n",
    "import os"
   ]
  },
  {
   "cell_type": "markdown",
   "id": "598bc7a4",
   "metadata": {},
   "source": [
    "# GPU Setting Parallel Computing"
   ]
  },
  {
   "cell_type": "code",
   "execution_count": 5,
   "id": "999e273e",
   "metadata": {},
   "outputs": [],
   "source": [
    "config = tf.compat.v1.ConfigProto()\n",
    "config.gpu_options.allow_growth = True\n",
    "tf.compat.v1.enable_eager_execution(config=config)\n",
    "layers = tf.keras.layers # Keras Layers"
   ]
  },
  {
   "cell_type": "code",
   "execution_count": 6,
   "id": "3694930d",
   "metadata": {},
   "outputs": [
    {
     "data": {
      "text/plain": [
       "'\\n\\n\\nThe Discriminator is a PatchGAN.\\n\\n\\n\\n'"
      ]
     },
     "execution_count": 6,
     "metadata": {},
     "output_type": "execute_result"
    }
   ],
   "source": [
    "\"\"\"\n",
    "\n",
    "\n",
    "The Discriminator is a PatchGAN.\n",
    "\n",
    "\n",
    "\n",
    "\"\"\""
   ]
  },
  {
   "cell_type": "markdown",
   "id": "fd3cd286",
   "metadata": {},
   "source": [
    "# Defining Discriminator"
   ]
  },
  {
   "cell_type": "code",
   "execution_count": null,
   "id": "730b5a51",
   "metadata": {},
   "outputs": [],
   "source": [
    "class Discriminator(tf.keras.Model):\n",
    "    \n",
    "    \n",
    "    \n",
    "    \n",
    "    def __init__(self):\n",
    "        super(Discriminator, self).__init__()\n",
    "        initializer = tf.random_normal_initializer(0., 0.02)\n",
    "        \n",
    "        \n",
    "        \n",
    "        \n",
    "        # downsample\n",
    "        self.encoder_layer_1 = EncoderLayer(filters=64, kernel_size=4, apply_batchnorm=False) \n",
    "        self.encoder_layer_2 = EncoderLayer(filters=128, kernel_size=4)        \n",
    "        self.encoder_layer_3 = EncoderLayer(filters=128, kernel_size=4)        \n",
    "\n",
    "       \n",
    "    \n",
    "        \n",
    "        # conv block1\n",
    "        self.zero_pad1 = layers.ZeroPadding2D()                                \n",
    "        self.conv = tf.keras.layers.Conv2D(512, 4, strides=1, kernel_initializer=initializer, use_bias=False)\n",
    "        self.bn1 = layers.BatchNormalization()                                 \n",
    "        self.ac = layers.LeakyReLU()\n",
    "\n",
    "        \n",
    "        \n",
    "        \n",
    "        \n",
    "        # block2\n",
    "        self.zero_pad2 = tf.keras.layers.ZeroPadding2D()                       \n",
    "        self.last = tf.keras.layers.Conv2D(1, 4, strides=1, kernel_initializer=initializer) \n",
    "\n",
    "   \n",
    "   \n",
    "    \n",
    "    \n",
    "    \n",
    "    \n",
    "    def call(self, y):\n",
    "        \"\"\"inputs can be generated image. \"\"\"\n",
    "        target = y\n",
    "        x = target     \n",
    "        x = self.encoder_layer_1(x)\n",
    "        x = self.encoder_layer_2(x)\n",
    "        x = self.encoder_layer_3(x)\n",
    "\n",
    "        x = self.zero_pad1(x)\n",
    "        x = self.conv(x)\n",
    "        x = self.bn1(x)\n",
    "        x = self.ac(x)\n",
    "\n",
    "        x = self.zero_pad2(x)\n",
    "        x = self.last(x)\n",
    "        return x\n"
   ]
  }
 ],
 "metadata": {
  "kernelspec": {
   "display_name": "Python 3 (ipykernel)",
   "language": "python",
   "name": "python3"
  },
  "language_info": {
   "codemirror_mode": {
    "name": "ipython",
    "version": 3
   },
   "file_extension": ".py",
   "mimetype": "text/x-python",
   "name": "python",
   "nbconvert_exporter": "python",
   "pygments_lexer": "ipython3",
   "version": "3.8.12"
  }
 },
 "nbformat": 4,
 "nbformat_minor": 5
}
